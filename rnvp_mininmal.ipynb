{
 "cells": [
  {
   "cell_type": "code",
   "execution_count": 1,
   "metadata": {},
   "outputs": [],
   "source": [
    "import torch\n",
    "import numpy as np\n",
    "import sklearn\n",
    "from sklearn import datasets\n",
    "import matplotlib.pyplot as plt"
   ]
  },
  {
   "cell_type": "code",
   "execution_count": 2,
   "metadata": {},
   "outputs": [],
   "source": [
    "# hyperparameters\n",
    "num_epochs = 5000\n",
    "batch_size = 64\n",
    "learning_rate = 0.003"
   ]
  },
  {
   "cell_type": "code",
   "execution_count": 3,
   "metadata": {},
   "outputs": [],
   "source": [
    "base_mu, base_cov = torch.zeros(2), torch.eye(2)\n",
    "base_distribution = torch.distributions.multivariate_normal.MultivariateNormal(base_mu, base_cov)"
   ]
  },
  {
   "cell_type": "code",
   "execution_count": 4,
   "metadata": {},
   "outputs": [],
   "source": [
    "class CouplingLayer(torch.nn.Module):\n",
    "    def __init__(self, dim, split_dim, hidden_dim):\n",
    "        super().__init__()\n",
    "        self.split_dim = split_dim\n",
    "        self.dim = dim\n",
    "        self.hidden_dim = hidden_dim\n",
    "        \n",
    "        # create sigma and mu nets\n",
    "        self.sigma_net = torch.nn.Sequential(\n",
    "            torch.nn.Linear(self.split_dim, self.hidden_dim),\n",
    "            torch.nn.ReLU(),\n",
    "            torch.nn.Linear(self.hidden_dim, self.dim - self.split_dim))\n",
    "        \n",
    "        self.mu_net = torch.nn.Sequential(\n",
    "            torch.nn.Linear(self.split_dim, self.hidden_dim),\n",
    "            torch.nn.ReLU(),\n",
    "            torch.nn.Linear(self.hidden_dim, self.dim - self.split_dim))\n",
    "        \n",
    "    # forward pass f(x)=z\n",
    "    def forward(self, x, flip=False):\n",
    "        # split\n",
    "        x1, x2 = x[:, :self.split_dim], x[:, self.split_dim:]\n",
    "        \n",
    "        # flip\n",
    "        if flip:\n",
    "            x1, x2 = x2, x1\n",
    "        \n",
    "        # pass x1 through nets\n",
    "        sigma = self.sigma_net(x1)\n",
    "        mu = self.mu_net(x1)\n",
    "        # compute z\n",
    "        z1 = x1\n",
    "        z2 = x2 * torch.exp(sigma) + mu\n",
    "        \n",
    "        z = torch.cat([z1, z2], dim=-1)\n",
    "        \n",
    "        log_pz = base_distribution.log_prob(z)\n",
    "        log_jacobian = sigma.sum(-1)\n",
    "        \n",
    "        return z, log_pz, log_jacobian\n",
    "    \n",
    "    def inverse(self, z, flip=False):\n",
    "        z1, z2 = z[:, :self.split_dim], z[:, self.split_dim:]\n",
    "        # flip\n",
    "        if flip:\n",
    "            z1, z2 = z2, z1\n",
    "            \n",
    "        # compute the inverse\n",
    "        x1 = z1\n",
    "        x2 = (z2 - self.mu_net(z1)) * torch.exp(-self.sigma_net(z1))\n",
    "        \n",
    "        x = torch.cat([x1, x2], dim=-1)\n",
    "        \n",
    "        return x\n",
    "        "
   ]
  },
  {
   "cell_type": "code",
   "execution_count": 5,
   "metadata": {},
   "outputs": [],
   "source": [
    "class Flow(torch.nn.Module):\n",
    "    def __init__(self, dim, split_dim, hidden_dim, num_layers):\n",
    "        super().__init__()\n",
    "        self.num_layers = num_layers\n",
    "        self.layers = torch.nn.ModuleList([CouplingLayer(dim, split_dim, hidden_dim) for _ in range(self.num_layers)])\n",
    "        self.flips = [True if i%2==0 else False for i in range(self.num_layers)]\n",
    "        \n",
    "    def forward(self, x):\n",
    "        log_jacobians = []\n",
    "        \n",
    "        for layer, flip in zip(self.layers, self.flips):\n",
    "            x, log_pz, log_jacobian = layer(x, flip)\n",
    "            log_jacobians.append(log_jacobian)\n",
    "            \n",
    "        return x, log_pz, sum(log_jacobians)\n",
    "\n",
    "    def inverse(self, z):\n",
    "        for layer, flip in zip(reversed(self.layers), reversed(self.flips)):\n",
    "            z = layer.inverse(z, flip)\n",
    "        \n",
    "        return z"
   ]
  },
  {
   "cell_type": "code",
   "execution_count": 6,
   "metadata": {},
   "outputs": [],
   "source": [
    "flow = Flow(2, 1, 128, 3)\n",
    "optim = torch.optim.Adam(flow.parameters(), lr=learning_rate)"
   ]
  },
  {
   "cell_type": "code",
   "execution_count": 7,
   "metadata": {},
   "outputs": [],
   "source": [
    "losses = []\n",
    "for epoch in range(num_epochs):\n",
    "\n",
    "    # get data \n",
    "    x, _ = datasets.make_moons(n_samples=batch_size, noise=.05)\n",
    "    x = torch.from_numpy(sklearn.preprocessing.StandardScaler().fit_transform(x)).float()\n",
    "\n",
    "    optim.zero_grad()\n",
    "    z, log_pz, log_jacobian = flow(x)\n",
    "    loss = (-log_pz - log_jacobian).mean()\n",
    "    losses.append(loss)\n",
    "\n",
    "    loss.backward()\n",
    "    optim.step()"
   ]
  },
  {
   "cell_type": "code",
   "execution_count": 8,
   "metadata": {},
   "outputs": [
    {
     "data": {
      "text/plain": [
       "[<matplotlib.lines.Line2D at 0x7f9628668f60>]"
      ]
     },
     "execution_count": 8,
     "metadata": {},
     "output_type": "execute_result"
    },
    {
     "data": {
      "image/png": "[encoded data removed]",
      "text/plain": [
       "<Figure size 432x288 with 1 Axes>"
      ]
     },
     "metadata": {
      "needs_background": "light"
     },
     "output_type": "display_data"
    }
   ],
   "source": [
    "plt.plot(losses)"
   ]
  },
  {
   "cell_type": "code",
   "execution_count": 9,
   "metadata": {},
   "outputs": [
    {
     "data": {
      "image/png": "[encoded data removed]",
      "text/plain": [
       "<Figure size 432x288 with 1 Axes>"
      ]
     },
     "metadata": {
      "needs_background": "light"
     },
     "output_type": "display_data"
    }
   ],
   "source": [
    "z = base_distribution.rsample(sample_shape=(1000,))\n",
    "x_hat = flow.inverse(z).detach().numpy()\n",
    "plt.scatter(x_hat[:, 0], x_hat[:, 1])\n",
    "plt.title('x = f^(-1)(z)')\n",
    "plt.show()"
   ]
  },
  {
   "cell_type": "code",
   "execution_count": 10,
   "metadata": {},
   "outputs": [
    {
     "data": {
      "image/png": "[encoded data removed]",
      "text/plain": [
       "<Figure size 432x288 with 1 Axes>"
      ]
     },
     "metadata": {
      "needs_background": "light"
     },
     "output_type": "display_data"
    }
   ],
   "source": [
    "n_samples = 1000\n",
    "X, _ = datasets.make_moons(n_samples=n_samples, noise=.05)\n",
    "X = torch.from_numpy(sklearn.preprocessing.StandardScaler().fit_transform(X)).float()\n",
    "z, _, _ = flow(x)\n",
    "z = z.detach().numpy()\n",
    "plt.scatter(z[:, 0], z[:, 1])\n",
    "plt.title(\"z = f(x)\")\n",
    "plt.show()"
   ]
  }
 ],
 "metadata": {
  "kernelspec": {
   "display_name": "Python 3",
   "language": "python",
   "name": "python3"
  },
  "language_info": {
   "codemirror_mode": {
    "name": "ipython",
    "version": 3
   },
   "file_extension": ".py",
   "mimetype": "text/x-python",
   "name": "python",
   "nbconvert_exporter": "python",
   "pygments_lexer": "ipython3",
   "version": "3.6.10"
  }
 },
 "nbformat": 4,
 "nbformat_minor": 4
}
